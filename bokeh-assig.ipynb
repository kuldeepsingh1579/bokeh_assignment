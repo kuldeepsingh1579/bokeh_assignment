{
 "cells": [
  {
   "cell_type": "raw",
   "id": "b8333721-ab1c-4690-ba24-ab9b9210d166",
   "metadata": {},
   "source": [
    "Question-No."
   ]
  },
  {
   "cell_type": "raw",
   "id": "b79768fa-faac-4a61-a130-f7f6a54db822",
   "metadata": {},
   "source": [
    "You can create a Bokeh plot using Python code by following these general steps:\n",
    "\n",
    "1- Import the necessary Bokeh modules.\n",
    "2- Create a figure object using the 'figure()' function.\n",
    "3- Add glyphs (data representations) to the figure using methods like '.line()', '.circle()', etc.\n",
    "4- Customize the plot's appearance and properties using various figure methods and glyph properties.\n",
    "5- Display the plot using the 'show()' function."
   ]
  },
  {
   "cell_type": "code",
   "execution_count": 5,
   "id": "62c50f12-68a0-4d7f-93ec-a0079ce88227",
   "metadata": {},
   "outputs": [],
   "source": [
    "from bokeh.plotting import figure, show\n",
    "\n",
    "# Create a new plot with title and axis labels\n",
    "p = figure(title=\"Simple Line Plot\", x_axis_label=\"X-axis\", y_axis_label=\"Y-axis\")\n",
    "\n",
    "# Example data\n",
    "x = [1, 2, 3, 4, 5]\n",
    "y = [6, 7, 2, 4, 5]\n",
    "\n",
    "# Add a line glyph to the plot\n",
    "p.line(x, y, line_width=2, line_color=\"blue\", legend_label=\"Line\")\n",
    "\n",
    "# Customize plot properties\n",
    "p.legend.title = \"Legend\"\n",
    "p.legend.label_text_font_size = \"12pt\"\n",
    "p.title.text_font_size = \"16pt\"\n",
    "p.xaxis.axis_label_text_font_size = \"14pt\"\n",
    "p.yaxis.axis_label_text_font_size = \"14pt\"\n",
    "\n",
    "# Show the plot\n",
    "show(p)\n"
   ]
  },
  {
   "cell_type": "raw",
   "id": "c1c86083-e78e-4ea5-ba3f-efe6a51847eb",
   "metadata": {},
   "source": [
    "Question-No.2"
   ]
  },
  {
   "cell_type": "raw",
   "id": "a0ecd9aa-98f0-4b04-bf0a-4bb112b60f1e",
   "metadata": {},
   "source": [
    "In Bokeh, glyphs are the basic visual building blocks used to represent data on a plot. They can be thought of as graphical elements that correspond to individual data points or groups of data points. Glyphs can include various shapes (circles, squares, triangles, etc.), lines, patches, and more. \n",
    "\n",
    "To add glyphs to a Bokeh plot, you typically use methods associated with the 'figure' object, which create and add the desired glyphs to the plot canvas.  For Example--"
   ]
  },
  {
   "cell_type": "code",
   "execution_count": 9,
   "id": "c301927b-09bc-4ad1-88c7-6bafcbbfb0d1",
   "metadata": {},
   "outputs": [],
   "source": [
    "from bokeh.plotting import figure, show\n",
    "\n",
    "# Create a new plot\n",
    "p = figure(title=\"Circle Glyph Example\", x_axis_label=\"X-axis\", y_axis_label=\"Y-axis\")\n",
    "\n",
    "# Example data\n",
    "x = [1, 2, 3, 4, 5]\n",
    "y = [6, 7, 2, 4, 5]\n",
    "\n",
    "# Add circles glyph to the plot\n",
    "p.circle(x, y, size=10, fill_color=\"blue\", line_color=\"black\", fill_alpha=0.6, legend_label=\"Circles\")\n",
    "\n",
    "# Customize plot properties\n",
    "p.legend.title = \"Legend\"\n",
    "p.legend.label_text_font_size = \"12pt\"\n",
    "p.title.text_font_size = \"16pt\"\n",
    "p.xaxis.axis_label_text_font_size = \"14pt\"\n",
    "p.yaxis.axis_label_text_font_size = \"14pt\"\n",
    "\n",
    "# Show the plot\n",
    "show(p)\n",
    "from bokeh.plotting import figure, show\n",
    "from bokeh.plotting import figure, show\n",
    "\n",
    "# Create a new plot\n",
    "p = figure(title=\"Circle Glyph Example\", x_axis_label=\"X-axis\", y_axis_label=\"Y-axis\")\n",
    "\n",
    "# Example data\n",
    "x = [1, 2, 3, 4, 5]\n",
    "y = [6, 7, 2, 4, 5]\n",
    "\n",
    "# Add circles glyph to the plot\n",
    "p.circle(x, y, size=10, fill_color=\"blue\", line_color=\"black\", fill_alpha=0.6, legend_label=\"Circles\")\n",
    "\n",
    "# Customize plot properties\n",
    "p.legend.title = \"Legend\"\n",
    "p.legend.label_text_font_size = \"12pt\"\n",
    "p.title.text_font_size = \"16pt\"\n",
    "p.xaxis.axis_label_text_font_size = \"14pt\"\n",
    "p.yaxis.axis_label_text_font_size = \"14pt\"\n",
    "\n",
    "# Show the plot\n",
    "show(p)"
   ]
  },
  {
   "cell_type": "raw",
   "id": "a5de19fb-1e14-4694-90b6-e1d098f7daa2",
   "metadata": {},
   "source": [
    "Question-No.3"
   ]
  },
  {
   "cell_type": "raw",
   "id": "44ee4965-47e0-41ff-aabb-1e2ebacbd36d",
   "metadata": {},
   "source": [
    "You can customize the appearance of a Bokeh plot, including the axes, title, and legend, by using various methods and properties available in the 'figure' object and other related objects. Here's a breakdown of how you can achieve different customizations:-\n",
    "\n",
    "1- Title and Labels:\n",
    "2- Axes\n",
    "3- Legend"
   ]
  },
  {
   "cell_type": "raw",
   "id": "9ea068db-5e9a-4f30-ba2b-7395236a08fc",
   "metadata": {},
   "source": [
    "Question-No.4"
   ]
  },
  {
   "cell_type": "code",
   "execution_count": null,
   "id": "32da3622-d3d3-4ba6-88d6-e6a8af8a9c12",
   "metadata": {},
   "outputs": [],
   "source": []
  }
 ],
 "metadata": {
  "kernelspec": {
   "display_name": "Python 3 (ipykernel)",
   "language": "python",
   "name": "python3"
  },
  "language_info": {
   "codemirror_mode": {
    "name": "ipython",
    "version": 3
   },
   "file_extension": ".py",
   "mimetype": "text/x-python",
   "name": "python",
   "nbconvert_exporter": "python",
   "pygments_lexer": "ipython3",
   "version": "3.10.8"
  }
 },
 "nbformat": 4,
 "nbformat_minor": 5
}
